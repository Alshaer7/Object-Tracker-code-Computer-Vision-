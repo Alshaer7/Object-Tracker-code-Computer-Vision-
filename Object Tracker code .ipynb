{
 "cells": [
  {
   "cell_type": "markdown",
   "id": "52828a9e",
   "metadata": {},
   "source": [
    "## Object Tracker code \n",
    "\n"
   ]
  },
  {
   "cell_type": "code",
   "execution_count": 3,
   "id": "2cbd558b",
   "metadata": {},
   "outputs": [],
   "source": [
    "import cv2\n",
    "import numpy as np\n",
    "def object_tracker():\n",
    "    x=input(\"Enter Object and one of these colors Red,Green,Blue to track: \") #BGR\n",
    "    color = x.split()[0]\n",
    "    if color == \"blue\":\n",
    "        color=np.uint8([[[200,0,0 ]]])\n",
    "    elif color == \"green\":\n",
    "        color=np.uint8([[[0,200,0]]])\n",
    "    elif color == \"red\":\n",
    "        color=np.uint8([[[0,0,200]]])\n",
    "    else:\n",
    "        print(\"try again\")\n",
    "        \n",
    "    hue = cv2.cvtColor(color,cv2.COLOR_BGR2HSV)[0][0][0] # to make range in hue \n",
    "    lower = np.array([hue-20,50,50])\n",
    "    upper = np.array([hue+20 ,255,255])\n",
    "    cap = cv2.VideoCapture(0)\n",
    "    while(1):\n",
    "        _, frame = cap.read()\n",
    "        hsv_frame = cv2.cvtColor(frame, cv2.COLOR_BGR2HSV)\n",
    "        mask = cv2.inRange(hsv_frame, lower, upper)#disply (out rang false means black /in range white\n",
    "        res = cv2.bitwise_and(frame,frame, mask= mask)\n",
    "\n",
    "        cv2.imshow('frame',frame)\n",
    "        cv2.imshow('mask',mask)\n",
    "        cv2.imshow('res',res)\n",
    "    \n",
    "        k = cv2.waitKey(10) & 0xFF\n",
    "        if k == 27:     #Esc\n",
    "            break\n",
    "\n",
    "    cv2.destroyAllWindows()\n",
    "    cap.release()\n",
    "        \n"
   ]
  },
  {
   "cell_type": "code",
   "execution_count": null,
   "id": "741d7434",
   "metadata": {},
   "outputs": [],
   "source": [
    "object_tracker()"
   ]
  },
  {
   "cell_type": "code",
   "execution_count": null,
   "id": "55575ed5",
   "metadata": {},
   "outputs": [],
   "source": []
  },
  {
   "cell_type": "code",
   "execution_count": null,
   "id": "a6b08bff",
   "metadata": {},
   "outputs": [],
   "source": []
  }
 ],
 "metadata": {
  "kernelspec": {
   "display_name": "Python 3",
   "language": "python",
   "name": "python3"
  },
  "language_info": {
   "codemirror_mode": {
    "name": "ipython",
    "version": 3
   },
   "file_extension": ".py",
   "mimetype": "text/x-python",
   "name": "python",
   "nbconvert_exporter": "python",
   "pygments_lexer": "ipython3",
   "version": "3.6.13"
  }
 },
 "nbformat": 4,
 "nbformat_minor": 5
}
